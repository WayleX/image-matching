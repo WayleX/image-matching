{
 "cells": [
  {
   "cell_type": "markdown",
   "metadata": {},
   "source": [
    "As training requires significant amount of time and GPU access (which was a critical factor as I had none and Google colab was loaded in my free time) - I decided to use only pretrained weights as results were not that bad. When running code you probably will be asked to download default weights that were used. "
   ]
  }
 ],
 "metadata": {
  "language_info": {
   "name": "python"
  }
 },
 "nbformat": 4,
 "nbformat_minor": 2
}
